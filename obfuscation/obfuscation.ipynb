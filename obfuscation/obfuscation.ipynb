{
 "cells": [
  {
   "cell_type": "code",
   "execution_count": 24,
   "metadata": {},
   "outputs": [],
   "source": [
    "import math\n",
    "\n",
    "class Location:\n",
    "    def __init__(self, lat, lon):\n",
    "        self.__lat = lat\n",
    "        self.__lon = lon\n",
    "    def get_lat(self):\n",
    "        return self.__lat\n",
    "    def get_lon(self):\n",
    "        return self.__lon\n",
    "    def set_precision(self, precision):\n",
    "        lt = round(self.__lat, precision)\n",
    "        ln = round(self.__lon, precision)\n",
    "        loc = Location(lt, ln)\n",
    "        return loc\n",
    "    def __degToRad(self, deg):\n",
    "        return deg * math.pi / 180\n",
    "    def distance(self, point):\n",
    "        R = 6371e3\n",
    "        lat1 = self.__degToRad(self.__lat)\n",
    "        lat2 = self.__degToRad(point.get_lat())\n",
    "        deltaLat = self.__degToRad(point.get_lat() - self.__lat)\n",
    "        deltaLon = self.__degToRad(point.get_lon() - self.__lon)\n",
    "        a = math.sin(deltaLat / 2) * math.sin(deltaLat / 2) + math.cos(lat1) * math.cos(lat2) * math.sin(deltaLon / 2) * math.sin(deltaLon / 2)\n",
    "        c = 2 * math.atan2(math.sqrt(a), math.sqrt(1 - a))\n",
    "        return R * c"
   ]
  },
  {
   "cell_type": "code",
   "execution_count": 25,
   "metadata": {},
   "outputs": [],
   "source": [
    "class Region:\n",
    "    def __init__(self, lat_range, lon_range):\n",
    "        self.__lat_range = lat_range\n",
    "        self.__lon_range = lon_range\n",
    "        self.__hotspots = []\n",
    "        self.__frequency = dict()\n",
    "    def get_range(self):\n",
    "        return self.__lat_range, self.__lon_range\n",
    "    def get_neighbours(self):\n",
    "        pass\n",
    "    def get_hotspots(self):\n",
    "        return self.__hotspots\n",
    "    def __sort_hotspots(self):\n",
    "        self.__hotspots.sort(key=lambda x: self.__frequency[x], reverse=True)\n",
    "    def add_spot(self, spot):\n",
    "        spot = spot.set_precision(4)\n",
    "        spot = (spot.get_lat(), spot.get_lon())\n",
    "        idx = self.__hotspots.index(spot) if spot in self.__hotspots else -1\n",
    "        # print(idx)\n",
    "        if idx == -1:\n",
    "            self.__hotspots.append(spot)\n",
    "            self.__frequency[spot] = 1\n",
    "        else:\n",
    "            self.__frequency[spot] += 1\n",
    "        self.__sort_hotspots()\n"
   ]
  },
  {
   "cell_type": "code",
   "execution_count": 50,
   "metadata": {},
   "outputs": [
    {
     "name": "stdout",
     "output_type": "stream",
     "text": [
      "Lat Cells: 40000\n",
      "Lon Cells: 24488\n",
      "Total Regions: 979520000\n",
      "Max Locations in a Region: 13230\n"
     ]
    }
   ],
   "source": [
    "degree = 180\n",
    "lat1000 = 0.009\n",
    "lon1000 = 0.0147\n",
    "# lat1000 = 1\n",
    "# lon1000 = 1\n",
    "lat_cells = int(degree // lat1000) * 2\n",
    "lon_cells = int(degree // lon1000) * 2\n",
    "lat_mid = lat_cells // 2\n",
    "lon_mid = lon_cells // 2\n",
    "\n",
    "print(\"Lat Cells:\", lat_cells) \n",
    "print(\"Lon Cells:\", lon_cells)\n",
    "print(\"Total Regions:\", lat_cells * lon_cells)\n",
    "print(\"Max Locations in a Region:\", math.ceil((lat1000 / .0001) * (lon1000 / .0001)))"
   ]
  },
  {
   "cell_type": "code",
   "execution_count": 49,
   "metadata": {},
   "outputs": [],
   "source": [
    "world_map = []\n",
    "lat = -180\n",
    "for i in range(lat_cells):\n",
    "    lon = -180\n",
    "    world_map.append([])\n",
    "    for j in range(lon_cells):\n",
    "        world_map[i].append(Region((lat, lat + lat1000), (lon, lon + lon1000)))\n",
    "        lon += lon1000\n",
    "    lat += lat1000"
   ]
  },
  {
   "cell_type": "code",
   "execution_count": 28,
   "metadata": {},
   "outputs": [],
   "source": [
    "def location_to_index(loc):\n",
    "    lat = loc.get_lat()\n",
    "    lon = loc.get_lon()\n",
    "    lat_idx = math.floor(lat // lat1000) + lat_mid\n",
    "    lon_idx = math.floor(lon // lon1000) + lon_mid\n",
    "    return (lat_idx, lon_idx)"
   ]
  },
  {
   "cell_type": "code",
   "execution_count": 29,
   "metadata": {},
   "outputs": [],
   "source": [
    "def get_obfuscated_loc(loc, range):\n",
    "    idx = location_to_index(loc)\n",
    "    r = world_map[idx[0]][idx[1]]\n",
    "    hotspots = r.get_hotspots()\n",
    "    for spot in hotspots:\n",
    "        if range[0] <= loc.distance(Location(spot[0], spot[1])) <= range[1]:\n",
    "            return Location(spot[0], spot[1])"
   ]
  },
  {
   "cell_type": "code",
   "execution_count": 34,
   "metadata": {},
   "outputs": [
    {
     "name": "stdout",
     "output_type": "stream",
     "text": [
      "771.4983233777218\n"
     ]
    }
   ],
   "source": [
    "pos = list()\n",
    "pos.append(Location(32.758, 74.89639)) # dist = 0\n",
    "pos.append(Location(32.758469, 74.896626)) # dist = 50+\n",
    "pos.append(Location(32.757593, 74.895512)) # dist = 90+\n",
    "pos.append(Location(32.759156, 74.895684)) # dist = 140+\n",
    "pos.append(Location(32.762922, 74.895594)) # dist = 500+\n",
    "pos.append(Location(32.764816, 74.897932)) # dist = 700+\n",
    "print(pos[0].distance(pos[5]))"
   ]
  },
  {
   "cell_type": "code",
   "execution_count": 35,
   "metadata": {},
   "outputs": [
    {
     "name": "stdout",
     "output_type": "stream",
     "text": [
      "Index: (212, 254)\n",
      "Lat-Lon Range: ((32, 33), (74, 75))\n"
     ]
    }
   ],
   "source": [
    "idx = location_to_index(pos[3])\n",
    "print(\"Index:\", idx)\n",
    "r = world_map[idx[0]][idx[1]]\n",
    "print(\"Lat-Lon Range:\", r.get_range())"
   ]
  },
  {
   "cell_type": "code",
   "execution_count": 36,
   "metadata": {},
   "outputs": [
    {
     "name": "stdout",
     "output_type": "stream",
     "text": [
      "-1\n",
      "-1\n",
      "-1\n",
      "-1\n",
      "-1\n"
     ]
    }
   ],
   "source": [
    "for p in pos[1: ]:\n",
    "    idx = location_to_index(p)\n",
    "    r = world_map[idx[0]][idx[1]]\n",
    "    r.add_spot(p)"
   ]
  },
  {
   "cell_type": "code",
   "execution_count": 42,
   "metadata": {},
   "outputs": [
    {
     "name": "stdout",
     "output_type": "stream",
     "text": [
      "32.7585 74.8966\n",
      "58.963536580550524\n",
      "\n",
      "32.7592 74.8957\n",
      "148.21506648370803\n",
      "\n",
      "32.7629 74.8956\n",
      "549.8400958017124\n",
      "\n"
     ]
    }
   ],
   "source": [
    "ob_l = get_obfuscated_loc(pos[0], (50, 100))\n",
    "if ob_l: \n",
    "    print(ob_l.get_lat(), ob_l.get_lon())\n",
    "    print(pos[0].distance(ob_l))\n",
    "    print()\n",
    "ob_l = get_obfuscated_loc(pos[0], (100, 150))\n",
    "if ob_l: \n",
    "    print(ob_l.get_lat(), ob_l.get_lon())\n",
    "    print(pos[0].distance(ob_l))\n",
    "    print()\n",
    "ob_l = get_obfuscated_loc(pos[0], (150, 500))\n",
    "if ob_l: \n",
    "    print(ob_l.get_lat(), ob_l.get_lon())\n",
    "    print(pos[0].distance(ob_l))\n",
    "    print()\n",
    "ob_l = get_obfuscated_loc(pos[0], (500, 1000))\n",
    "if ob_l: \n",
    "    print(ob_l.get_lat(), ob_l.get_lon())\n",
    "    print(pos[0].distance(ob_l))\n",
    "    print()"
   ]
  }
 ],
 "metadata": {
  "kernelspec": {
   "display_name": "Python 3",
   "language": "python",
   "name": "python3"
  },
  "language_info": {
   "codemirror_mode": {
    "name": "ipython",
    "version": 3
   },
   "file_extension": ".py",
   "mimetype": "text/x-python",
   "name": "python",
   "nbconvert_exporter": "python",
   "pygments_lexer": "ipython3",
   "version": "3.11.4"
  },
  "orig_nbformat": 4
 },
 "nbformat": 4,
 "nbformat_minor": 2
}
