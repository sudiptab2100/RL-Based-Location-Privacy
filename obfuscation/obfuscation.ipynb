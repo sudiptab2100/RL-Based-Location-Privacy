{
 "cells": [
  {
   "cell_type": "code",
   "execution_count": 1,
   "metadata": {},
   "outputs": [],
   "source": [
    "import math\n",
    "\n",
    "class Location:\n",
    "    def __init__(self, lat, lon):\n",
    "        self.__lat = lat\n",
    "        self.__lon = lon\n",
    "    def get_lat(self):\n",
    "        return self.__lat\n",
    "    def get_lon(self):\n",
    "        return self.__lon\n",
    "    def set_precision(self, precision):\n",
    "        lt = round(self.__lat, precision)\n",
    "        ln = round(self.__lon, precision)\n",
    "        loc = Location(lt, ln)\n",
    "        return loc\n",
    "    def __degToRad(self, deg):\n",
    "        return deg * math.pi / 180\n",
    "    def distance(self, point):\n",
    "        R = 6371e3\n",
    "        lat1 = self.__degToRad(self.__lat)\n",
    "        lat2 = self.__degToRad(point.get_lat())\n",
    "        deltaLat = self.__degToRad(point.get_lat() - self.__lat)\n",
    "        deltaLon = self.__degToRad(point.get_lon() - self.__lon)\n",
    "        a = math.sin(deltaLat / 2) * math.sin(deltaLat / 2) + math.cos(lat1) * math.cos(lat2) * math.sin(deltaLon / 2) * math.sin(deltaLon / 2)\n",
    "        c = 2 * math.atan2(math.sqrt(a), math.sqrt(1 - a))\n",
    "        return R * c"
   ]
  },
  {
   "cell_type": "code",
   "execution_count": 2,
   "metadata": {},
   "outputs": [],
   "source": [
    "class Region:\n",
    "    def __init__(self, lat_range, lon_range):\n",
    "        self.__lat_range = lat_range\n",
    "        self.__lon_range = lon_range\n",
    "        self.__hotspots = []\n",
    "        self.__frequency = dict()\n",
    "    def get_range(self):\n",
    "        return self.__lat_range, self.__lon_range\n",
    "    def get_neighbours(self):\n",
    "        pass\n",
    "    def get_hotspots(self):\n",
    "        return self.__hotspots\n",
    "    def __sort_hotspots(self):\n",
    "        self.__hotspots.sort(key=lambda x: self.__frequency[x], reverse=True)\n",
    "    def add_spot(self, spot, freq):\n",
    "        spot = spot.set_precision(4)\n",
    "        spot = (spot.get_lat(), spot.get_lon())\n",
    "        idx = self.__hotspots.index(spot) if spot in self.__hotspots else -1\n",
    "        # print(idx)\n",
    "        if idx == -1:\n",
    "            self.__hotspots.append(spot)\n",
    "            self.__frequency[spot] = freq\n",
    "        else:\n",
    "            self.__frequency[spot] += freq\n",
    "        self.__sort_hotspots()\n"
   ]
  },
  {
   "cell_type": "code",
   "execution_count": 8,
   "metadata": {},
   "outputs": [
    {
     "name": "stdout",
     "output_type": "stream",
     "text": [
      "Lat Cells: 778\n",
      "Lon Cells: 613\n",
      "Total Regions: 476914\n",
      "Max Locations in a Region: 13230\n"
     ]
    }
   ],
   "source": [
    "degreeLat = 7\n",
    "degreeLon = 9\n",
    "lat1000 = 0.009\n",
    "lon1000 = 0.0147\n",
    "# lat1000 = 1\n",
    "# lon1000 = 1\n",
    "lat_cells = math.ceil(degreeLat / lat1000)\n",
    "lon_cells = math.ceil(degreeLon / lon1000)\n",
    "lat_mid = lat_cells // 2\n",
    "lon_mid = lon_cells // 2\n",
    "\n",
    "print(\"Lat Cells:\", lat_cells) \n",
    "print(\"Lon Cells:\", lon_cells)\n",
    "print(\"Total Regions:\", lat_cells * lon_cells)\n",
    "print(\"Max Locations in a Region:\", math.ceil((lat1000 / .0001) * (lon1000 / .0001)))"
   ]
  },
  {
   "cell_type": "code",
   "execution_count": 116,
   "metadata": {},
   "outputs": [
    {
     "data": {
      "text/plain": [
       "'778 / 778, 100.0%'"
      ]
     },
     "metadata": {},
     "output_type": "display_data"
    }
   ],
   "source": [
    "from IPython.display import display, clear_output\n",
    "\n",
    "\"\"\"\n",
    "Generated For Jammu & Kashmir Region\n",
    "Latitude Range - [30, 37]\n",
    "Longitude Range - [71, 80]\n",
    "\"\"\"\n",
    "\n",
    "world_map = []\n",
    "lat = 30\n",
    "it = 0\n",
    "print()\n",
    "for i in range(lat_cells):\n",
    "    lon = 71\n",
    "    world_map.append([])\n",
    "    for j in range(lon_cells):\n",
    "        world_map[i].append(Region((lat, lat + lat1000), (lon, lon + lon1000)))\n",
    "        lon += lon1000\n",
    "    if it % 10 == 0 or it == lat_cells - 1:\n",
    "        clear_output(wait=True)\n",
    "        display(f'{it + 1} / {lat_cells}, {round(((it + 1) * 100) / lat_cells, 2)}%')\n",
    "    it += 1\n",
    "    lat += lat1000"
   ]
  },
  {
   "cell_type": "code",
   "execution_count": 10,
   "metadata": {},
   "outputs": [],
   "source": [
    "def location_to_index(loc):\n",
    "    lat = round(loc.get_lat(), 4)\n",
    "    lon = round(loc.get_lon(), 4)\n",
    "    lat_idx = math.floor((lat - 30) // lat1000)\n",
    "    lon_idx = math.floor((lon - 71) // lon1000)\n",
    "    return (lat_idx, lon_idx)"
   ]
  },
  {
   "cell_type": "code",
   "execution_count": 11,
   "metadata": {},
   "outputs": [
    {
     "name": "stdout",
     "output_type": "stream",
     "text": [
      "(777, 612)\n",
      "(0, 0)\n"
     ]
    }
   ],
   "source": [
    "print(location_to_index(Location(37, 80)))\n",
    "print(location_to_index(Location(30, 71)))"
   ]
  },
  {
   "cell_type": "code",
   "execution_count": 16,
   "metadata": {},
   "outputs": [],
   "source": [
    "def get_obfuscated_loc(loc, range):\n",
    "    idx = location_to_index(loc)\n",
    "    r = world_map[idx[0]][idx[1]]\n",
    "    hotspots = r.get_hotspots()\n",
    "    for spot in hotspots:\n",
    "        if range[0] <= loc.distance(Location(spot[0], spot[1])) <= range[1]:\n",
    "            return Location(spot[0], spot[1])"
   ]
  },
  {
   "cell_type": "code",
   "execution_count": 81,
   "metadata": {},
   "outputs": [],
   "source": [
    "import random\n",
    "\n",
    "def generate_random_hotspots(world_map, cell_index, count):\n",
    "    region = world_map[cell_index[0]][cell_index[1]]\n",
    "    lat_range, lon_range = region.get_range()\n",
    "    hotspots = []\n",
    "    frequencies = []\n",
    "    for i in range(count):\n",
    "        lat = round(random.random() * (lat_range[1] - lat_range[0]) + lat_range[0], 4)\n",
    "        lon = round(random.random() * (lon_range[1] - lon_range[0]) + lon_range[0], 4)\n",
    "        hotspots.append(Location(lat, lon))\n",
    "        frequencies.append(random.randint(0, 2))\n",
    "    return hotspots, frequencies"
   ]
  },
  {
   "cell_type": "code",
   "execution_count": 82,
   "metadata": {},
   "outputs": [],
   "source": [
    "def add_hotspots_to_cell(world_map, cell_index, hotspots, frequencies):\n",
    "    region = world_map[cell_index[0]][cell_index[1]]\n",
    "    for spot, freq in zip(hotspots, frequencies):\n",
    "        region.add_spot(spot, freq)"
   ]
  },
  {
   "cell_type": "code",
   "execution_count": 117,
   "metadata": {},
   "outputs": [],
   "source": [
    "user_lat = 32.002\n",
    "user_lon = 77.005\n",
    "user_loc = Location(user_lat, user_lon)\n",
    "\n",
    "cell_index = location_to_index(user_loc)\n",
    "hotspots, frequencies = generate_random_hotspots(world_map, cell_index, 100)\n",
    "add_hotspots_to_cell(world_map, cell_index, hotspots, frequencies)"
   ]
  },
  {
   "cell_type": "code",
   "execution_count": 120,
   "metadata": {},
   "outputs": [
    {
     "name": "stdout",
     "output_type": "stream",
     "text": [
      "31.9991 76.9997\n"
     ]
    }
   ],
   "source": [
    "obs_loc = get_obfuscated_loc(user_loc, [500, 700])\n",
    "print(obs_loc.get_lat(), obs_loc.get_lon())"
   ]
  },
  {
   "cell_type": "code",
   "execution_count": 53,
   "metadata": {},
   "outputs": [
    {
     "data": {
      "text/plain": [
       "True"
      ]
     },
     "execution_count": 53,
     "metadata": {},
     "output_type": "execute_result"
    }
   ],
   "source": [
    "# import folium\n",
    "# import webbrowser\n",
    "\n",
    "# lats = [user_lat, obs_loc.get_lat()]\n",
    "# lons = [user_lon, obs_loc.get_lon()]\n",
    "# map = folium.Map(location=[sum(lats) / len(lats), sum(lons) / len(lons)], zoom_start=20)\n",
    "\n",
    "# folium.Marker([obs_loc.get_lat(), obs_loc.get_lon()]).add_to(map)\n",
    "# folium.Marker([user_lat, user_lon], icon=folium.Icon(color='black',icon_color='#FFFF00')).add_to(map)\n",
    "\n",
    "# map.save('obs.html')\n",
    "# webbrowser.open('obs.html')"
   ]
  },
  {
   "cell_type": "code",
   "execution_count": 121,
   "metadata": {},
   "outputs": [
    {
     "data": {
      "text/plain": [
       "True"
      ]
     },
     "execution_count": 121,
     "metadata": {},
     "output_type": "execute_result"
    }
   ],
   "source": [
    "import folium\n",
    "import webbrowser\n",
    "\n",
    "lats = []\n",
    "lons = []\n",
    "map = folium.Map(location=[user_lat, user_lon], zoom_start=16)\n",
    "\n",
    "colors = ['red', 'green', 'blue']\n",
    "\n",
    "for loc, freq in zip(hotspots, frequencies):\n",
    "    lat, lon = loc.get_lat(), loc.get_lon()\n",
    "    folium.Marker([lat, lon], icon=folium.Icon(color=colors[freq])).add_to(map)\n",
    "folium.Marker([user_lat, user_lon], icon=folium.Icon(color='black',icon_color='#FFFF00')).add_to(map)\n",
    "# folium.Marker([obs_loc.get_lat(), obs_loc.get_lon()], icon=folium.Icon(color='black',icon_color='#FFFF00')).add_to(map)\n",
    "\n",
    "line_coords = [[obs_loc.get_lat(), obs_loc.get_lon()], [user_lat, user_lon]]\n",
    "fg = folium.FeatureGroup(\"Lines\")\n",
    "folium.PolyLine(line_coords).add_to(fg)\n",
    "fg.add_to(map)\n",
    "folium.LayerControl(position='bottomright').add_to(map)\n",
    "\n",
    "map.save('obs.html')\n",
    "webbrowser.open('obs.html')"
   ]
  },
  {
   "cell_type": "code",
   "execution_count": 26,
   "metadata": {},
   "outputs": [
    {
     "name": "stdout",
     "output_type": "stream",
     "text": [
      "771.4983233777218\n"
     ]
    }
   ],
   "source": [
    "pos = list()\n",
    "pos.append(Location(32.758, 74.89639))     # dist = 0\n",
    "pos.append(Location(32.758469, 74.896626)) # dist = 50+\n",
    "pos.append(Location(32.757593, 74.895512)) # dist = 90+\n",
    "pos.append(Location(32.759156, 74.895684)) # dist = 140+\n",
    "pos.append(Location(32.762922, 74.895594)) # dist = 500+\n",
    "pos.append(Location(32.764816, 74.897932)) # dist = 700+\n",
    "print(pos[0].distance(pos[5]))"
   ]
  },
  {
   "cell_type": "code",
   "execution_count": 28,
   "metadata": {},
   "outputs": [
    {
     "name": "stdout",
     "output_type": "stream",
     "text": [
      "Index: (306, 265)\n",
      "Lat-Lon Range: ((32.754000000000104, 32.763000000000105), (74.89550000000128, 74.91020000000128))\n"
     ]
    }
   ],
   "source": [
    "idx = location_to_index(pos[3])\n",
    "print(\"Index:\", idx)\n",
    "r = world_map[idx[0]][idx[1]]\n",
    "print(\"Lat-Lon Range:\", r.get_range())"
   ]
  },
  {
   "cell_type": "code",
   "execution_count": 29,
   "metadata": {},
   "outputs": [],
   "source": [
    "for p in pos[1: ]:\n",
    "    idx = location_to_index(p)\n",
    "    r = world_map[idx[0]][idx[1]]\n",
    "    r.add_spot(p)"
   ]
  },
  {
   "cell_type": "code",
   "execution_count": 30,
   "metadata": {},
   "outputs": [
    {
     "name": "stdout",
     "output_type": "stream",
     "text": [
      "32.7585 74.8966\n",
      "58.963536580550524\n",
      "\n",
      "32.7592 74.8957\n",
      "148.21506648370803\n",
      "\n",
      "32.7629 74.8956\n",
      "549.8400958017124\n",
      "\n"
     ]
    }
   ],
   "source": [
    "ob_l = get_obfuscated_loc(pos[0], (50, 100))\n",
    "if ob_l: \n",
    "    print(ob_l.get_lat(), ob_l.get_lon())\n",
    "    print(pos[0].distance(ob_l))\n",
    "    print()\n",
    "ob_l = get_obfuscated_loc(pos[0], (100, 150))\n",
    "if ob_l: \n",
    "    print(ob_l.get_lat(), ob_l.get_lon())\n",
    "    print(pos[0].distance(ob_l))\n",
    "    print()\n",
    "ob_l = get_obfuscated_loc(pos[0], (150, 500))\n",
    "if ob_l: \n",
    "    print(ob_l.get_lat(), ob_l.get_lon())\n",
    "    print(pos[0].distance(ob_l))\n",
    "    print()\n",
    "ob_l = get_obfuscated_loc(pos[0], (500, 1000))\n",
    "if ob_l: \n",
    "    print(ob_l.get_lat(), ob_l.get_lon())\n",
    "    print(pos[0].distance(ob_l))\n",
    "    print()"
   ]
  }
 ],
 "metadata": {
  "kernelspec": {
   "display_name": "Python 3",
   "language": "python",
   "name": "python3"
  },
  "language_info": {
   "codemirror_mode": {
    "name": "ipython",
    "version": 3
   },
   "file_extension": ".py",
   "mimetype": "text/x-python",
   "name": "python",
   "nbconvert_exporter": "python",
   "pygments_lexer": "ipython3",
   "version": "3.11.4"
  },
  "orig_nbformat": 4
 },
 "nbformat": 4,
 "nbformat_minor": 2
}
