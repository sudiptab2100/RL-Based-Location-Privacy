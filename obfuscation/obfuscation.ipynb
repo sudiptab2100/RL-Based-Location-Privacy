{
 "cells": [
  {
   "cell_type": "code",
   "execution_count": 89,
   "metadata": {},
   "outputs": [],
   "source": [
    "import math\n",
    "\n",
    "class Location:\n",
    "    def __init__(self, lat, lon):\n",
    "        self.__lat = lat\n",
    "        self.__lon = lon\n",
    "    def get_lat(self):\n",
    "        return self.__lat\n",
    "    def get_lon(self):\n",
    "        return self.__lon\n",
    "    def set_precision(self, precision):\n",
    "        lt = round(self.__lat, precision)\n",
    "        ln = round(self.__lon, precision)\n",
    "        loc = Location(lt, ln)\n",
    "        return loc\n",
    "    def __degToRad(self, deg):\n",
    "        return deg * math.pi / 180\n",
    "    def distance(self, point):\n",
    "        R = 6371e3\n",
    "        lat1 = self.__degToRad(self.__lat)\n",
    "        lat2 = self.__degToRad(point.get_lat())\n",
    "        deltaLat = self.__degToRad(point.get_lat() - self.__lat)\n",
    "        deltaLon = self.__degToRad(point.get_lon() - self.__lon)\n",
    "        a = math.sin(deltaLat / 2) * math.sin(deltaLat / 2) + math.cos(lat1) * math.cos(lat2) * math.sin(deltaLon / 2) * math.sin(deltaLon / 2)\n",
    "        c = 2 * math.atan2(math.sqrt(a), math.sqrt(1 - a))\n",
    "        return R * c"
   ]
  },
  {
   "cell_type": "code",
   "execution_count": 128,
   "metadata": {},
   "outputs": [],
   "source": [
    "class Region:\n",
    "    def __init__(self, lat_range, lon_range):\n",
    "        self.__lat_range = lat_range\n",
    "        self.__lon_range = lon_range\n",
    "        self.__hotspots = []\n",
    "        self.__frequency = dict()\n",
    "    def get_range(self):\n",
    "        return self.__lat_range, self.__lon_range\n",
    "    def get_neighbours(self):\n",
    "        pass\n",
    "    def get_hotspots(self):\n",
    "        return self.__hotspots\n",
    "    def __sort_hotspots(self):\n",
    "        self.__hotspots.sort(key=lambda x: self.__frequency[x], reverse=True)\n",
    "    def add_spot(self, spot):\n",
    "        spot = spot.set_precision(4)\n",
    "        spot = (spot.get_lat(), spot.get_lon())\n",
    "        idx = self.__hotspots.index(spot) if spot in self.__hotspots else -1\n",
    "        print(idx)\n",
    "        if idx == -1:\n",
    "            self.__hotspots.append(spot)\n",
    "            self.__frequency[spot] = 1\n",
    "        else:\n",
    "            self.__frequency[spot] += 1\n",
    "        self.__sort_hotspots()\n"
   ]
  },
  {
   "cell_type": "code",
   "execution_count": 135,
   "metadata": {},
   "outputs": [
    {
     "name": "stdout",
     "output_type": "stream",
     "text": [
      "360 360\n"
     ]
    }
   ],
   "source": [
    "degree = 180\n",
    "# lat1000 = 0.009\n",
    "# lon1000 = 0.0147\n",
    "lat1000 = 1\n",
    "lon1000 = 1\n",
    "lat_cells = int(degree // lat1000) * 2\n",
    "lon_cells = int(degree // lon1000) * 2\n",
    "lat_mid = lat_cells // 2\n",
    "lon_mid = lon_cells // 2\n",
    "\n",
    "print(lat_cells, lon_cells)\n",
    "\n",
    "# world_map = []\n",
    "# lat = -180\n",
    "# for i in range(lat_cells):\n",
    "#     lon = -180\n",
    "#     world_map.append([])\n",
    "#     for j in range(lon_cells):\n",
    "#         world_map[i].append(Region((lat, lat + lat1000), (lon, lon + lon1000)))\n",
    "#         lon += lon1000\n",
    "#     lat += lat1000"
   ]
  },
  {
   "cell_type": "code",
   "execution_count": 130,
   "metadata": {},
   "outputs": [],
   "source": [
    "def location_to_index(loc):\n",
    "    lat = loc.get_lat()\n",
    "    lon = loc.get_lon()\n",
    "    lat_idx = math.floor(lat // lat1000) + lat_mid\n",
    "    lon_idx = math.floor(lon // lon1000) + lon_mid\n",
    "    return (lat_idx, lon_idx)"
   ]
  },
  {
   "cell_type": "code",
   "execution_count": 132,
   "metadata": {},
   "outputs": [
    {
     "name": "stdout",
     "output_type": "stream",
     "text": [
      "(169, 190)\n",
      "((-11, -10), (10, 11))\n"
     ]
    }
   ],
   "source": [
    "l = Location(-10.5, 10.5)\n",
    "idx = location_to_index(l)\n",
    "print(idx)\n",
    "r = world_map[idx[0]][idx[1]]\n",
    "print(r.get_range())"
   ]
  },
  {
   "cell_type": "code",
   "execution_count": 133,
   "metadata": {},
   "outputs": [],
   "source": [
    "def get_obfuscated_loc(loc, range):\n",
    "    idx = location_to_index(loc)\n",
    "    r = world_map[idx[0]][idx[1]]\n",
    "    hotspots = r.get_hotspots()\n",
    "    for spot in hotspots:\n",
    "        if range[0] <= loc.distance(Location(spot[0], spot[1])) <= range[1]:\n",
    "            return Location(spot[0], spot[1])"
   ]
  }
 ],
 "metadata": {
  "kernelspec": {
   "display_name": "Python 3",
   "language": "python",
   "name": "python3"
  },
  "language_info": {
   "codemirror_mode": {
    "name": "ipython",
    "version": 3
   },
   "file_extension": ".py",
   "mimetype": "text/x-python",
   "name": "python",
   "nbconvert_exporter": "python",
   "pygments_lexer": "ipython3",
   "version": "3.9.6"
  },
  "orig_nbformat": 4
 },
 "nbformat": 4,
 "nbformat_minor": 2
}
