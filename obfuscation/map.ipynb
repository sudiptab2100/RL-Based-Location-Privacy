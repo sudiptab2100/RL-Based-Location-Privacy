{
 "cells": [
  {
   "cell_type": "code",
   "execution_count": 113,
   "metadata": {},
   "outputs": [],
   "source": [
    "import folium\n",
    "from geopy.distance import geodesic\n",
    "from geopy.point import Point\n",
    "import random\n",
    "import math"
   ]
  },
  {
   "cell_type": "code",
   "execution_count": 139,
   "metadata": {},
   "outputs": [
    {
     "name": "stdout",
     "output_type": "stream",
     "text": [
      "Random Coordinate within 1 km: (74.99574321019011, 30.992064915250943)\n",
      "Random Coordinate within 1 km: (75.0044148492592, 30.992676921643373)\n",
      "Random Coordinate within 1 km: (74.99345703360223, 30.99481012686919)\n",
      "Random Coordinate within 1 km: (75.00302801418123, 31.008177149848816)\n",
      "Random Coordinate within 1 km: (74.99327593595831, 30.9931985327214)\n",
      "Random Coordinate within 1 km: (74.99136412492385, 31.004779441904844)\n",
      "Random Coordinate within 1 km: (75.00993188967504, 31.000146946658123)\n",
      "Random Coordinate within 1 km: (75.00617275441415, 31.005474287226665)\n",
      "Random Coordinate within 1 km: (74.99840109946972, 31.008734435074867)\n",
      "Random Coordinate within 1 km: (74.99111626054595, 30.99859195027118)\n"
     ]
    }
   ],
   "source": [
    "latitudes = []\n",
    "longitudes = []\n",
    "\n",
    "def generate_random_coordinate_within_distance(longitude, latitude, distance_km):\n",
    "    distance_m = distance_km * 1000\n",
    "    \n",
    "    # Convert the given coordinate into a geopy Point object\n",
    "    starting_point = Point(latitude, longitude)\n",
    "\n",
    "    # Generate a random angle (in radians)\n",
    "    random_angle = random.uniform(0, 360)\n",
    "\n",
    "    # Calculate the random distance (in meters) within the specified distance\n",
    "    random_distance_m = random.uniform(distance_m - 200, distance_m)\n",
    "\n",
    "    # Calculate the random coordinate using the starting point, random distance, and angle\n",
    "    random_latitude, random_longitude, _ = geodesic(kilometers=random_distance_m/1000).destination(starting_point, random_angle)\n",
    "\n",
    "    return random_longitude, random_latitude\n",
    "\n",
    "# Example usage\n",
    "given_longitude = 75\n",
    "given_latitude = 31\n",
    "distance_in_km = 1\n",
    "\n",
    "for i in range(10):\n",
    "    random_longitude, random_latitude = generate_random_coordinate_within_distance(given_longitude, given_latitude, distance_in_km)\n",
    "    longitudes.append(random_longitude)\n",
    "    latitudes.append(random_latitude)\n",
    "    print(f\"Random Coordinate within {distance_in_km} km: ({random_longitude}, {random_latitude})\")\n",
    "\n",
    "# longitudes.append(given_longitude)\n",
    "# latitudes.append(given_latitude)\n",
    "# print(f\"Given Coordinate: ({given_longitude}, {given_latitude})\")\n",
    "# print(f\"Random Coordinate within {distance_in_km} km: ({random_longitude}, {random_latitude})\")\n"
   ]
  },
  {
   "cell_type": "code",
   "execution_count": 143,
   "metadata": {},
   "outputs": [
    {
     "data": {
      "text/plain": [
       "<folium.vector_layers.CircleMarker at 0x10ef6a5f910>"
      ]
     },
     "execution_count": 143,
     "metadata": {},
     "output_type": "execute_result"
    }
   ],
   "source": [
    "# longitudes = [75.00057050080186, 75.00027129030244]\n",
    "# latitudes = [31.009006213067074, 31.009016582115596]\n",
    "# create a map centered at the mean latitude and longitude values\n",
    "map = folium.Map(location=[sum(latitudes) / len(latitudes), sum(longitudes) / len(longitudes)], zoom_start=10)\n",
    "\n",
    "# add markers for each location\n",
    "for lat, lon in zip(latitudes[: -1], longitudes[: -1]):\n",
    "    folium.Marker([lat, lon]).add_to(map)\n",
    "\n",
    "# folium.Marker([given_latitude, given_longitude]).add_to(map)\n",
    "folium.Marker([given_latitude, given_longitude], icon=folium.Icon(color='black',icon_color='#FFFF00')).add_to(map)\n",
    "folium.CircleMarker([given_latitude, given_longitude],\n",
    "                radius=250,\n",
    "                popup='Laurelhurst Park',\n",
    "                color='#3186cc',\n",
    "                fill_color='#3186cc',\n",
    "               ).add_to(map)"
   ]
  },
  {
   "cell_type": "code",
   "execution_count": 144,
   "metadata": {},
   "outputs": [],
   "source": [
    "map.save('map.html')"
   ]
  },
  {
   "cell_type": "code",
   "execution_count": 145,
   "metadata": {},
   "outputs": [
    {
     "data": {
      "text/plain": [
       "True"
      ]
     },
     "execution_count": 145,
     "metadata": {},
     "output_type": "execute_result"
    }
   ],
   "source": [
    "import webbrowser\n",
    "webbrowser.open('map.html')"
   ]
  },
  {
   "cell_type": "code",
   "execution_count": null,
   "metadata": {},
   "outputs": [],
   "source": []
  }
 ],
 "metadata": {
  "kernelspec": {
   "display_name": ".venv",
   "language": "python",
   "name": "python3"
  },
  "language_info": {
   "codemirror_mode": {
    "name": "ipython",
    "version": 3
   },
   "file_extension": ".py",
   "mimetype": "text/x-python",
   "name": "python",
   "nbconvert_exporter": "python",
   "pygments_lexer": "ipython3",
   "version": "3.11.4"
  },
  "orig_nbformat": 4
 },
 "nbformat": 4,
 "nbformat_minor": 2
}
